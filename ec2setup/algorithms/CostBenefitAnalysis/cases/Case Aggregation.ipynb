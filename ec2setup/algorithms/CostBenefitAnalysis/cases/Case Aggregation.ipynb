{
 "cells": [
  {
   "cell_type": "markdown",
   "metadata": {},
   "source": [
    "# Read output files for all counties"
   ]
  },
  {
   "cell_type": "code",
   "execution_count": 15,
   "metadata": {},
   "outputs": [],
   "source": [
    "import os\n",
    "import pandas as pd\n",
    "\n",
    "county_list = pd.read_csv(\n",
    "    \"S:\\E3 Projects\\CEC SLAC EV\\Data processing\\Load shapes from SLAC\\SLAC Updated Load Shapes may 2020\\ev_distribution.csv\")['County'].tolist()\n",
    "cases_path = os.getcwd()\n",
    "output_df = pd.DataFrame()\n",
    "\n",
    "county_list = ['Fresno', 'Kern', 'Los Angeles', 'San Diego', 'San Francisco']\n",
    "scenario_list = ['BaseCase', 'LowAdoption', 'HighAdoption',  'Work', 'WorkPublic','FastPublic', 'Equity']\n",
    "\n",
    "for county in county_list:\n",
    "\n",
    "    output_df = pd.DataFrame()\n",
    "    for scenario in scenario_list:\n",
    "        uncontrolled_case = \"{}_{}_e19controlled_load\".format(scenario, county)\n",
    "        try:\n",
    "            output_path = os.path.join(cases_path, uncontrolled_case, 'results', 'npv_results.csv')\n",
    "            npv_results = pd.read_csv(output_path).set_index(\"Year\")\n",
    "            output_df[scenario] = npv_results['NPV']\n",
    "            for column in output_df.columns:\n",
    "                vehicle_sales = output_df.loc[\"Vehicle Sales (NPV)\", column]\n",
    "                output_df[column] /= vehicle_sales\n",
    "            \n",
    "            \n",
    "\n",
    "        except:\n",
    "            pass\n",
    "    output_df.to_csv(\"{} per vehicle managed results.csv\".format(county))\n"
   ]
  },
  {
   "cell_type": "markdown",
   "metadata": {},
   "source": [
    "# Base Case Results across Counties"
   ]
  },
  {
   "cell_type": "code",
   "execution_count": 9,
   "metadata": {
    "scrolled": true
   },
   "outputs": [],
   "source": [
    "import os\n",
    "import pandas as pd\n",
    "\n",
    "county_list = pd.read_csv(\n",
    "    \"S:\\E3 Projects\\CEC SLAC EV\\Data processing\\Load shapes from SLAC\\SLAC Updated Load Shapes may 2020\\ev_distribution.csv\")['County'].tolist()\n",
    "cases_path = os.getcwd()\n",
    "output_df = pd.DataFrame()\n",
    "\n",
    "for county in county_list:\n",
    "        uncontrolled_case = \"BaseCase_{}_e19controlled_load\".format(county)\n",
    "        try:\n",
    "            output_path = os.path.join(cases_path, uncontrolled_case, 'results', 'npv_results.csv')\n",
    "            npv_results = pd.read_csv(output_path).set_index(\"Year\")\n",
    "            output_df[county] = npv_results['NPV']\n",
    "\n",
    "        except:\n",
    "            pass\n",
    "output_df.to_csv(\"gross managed results.csv\")"
   ]
  },
  {
   "cell_type": "markdown",
   "metadata": {},
   "source": [
    "# Output per-vehicle results as csv\n"
   ]
  },
  {
   "cell_type": "code",
   "execution_count": 5,
   "metadata": {},
   "outputs": [],
   "source": [
    "\n",
    "for column in output_df.columns:\n",
    "    vehicle_sales = output_df.loc[\"Vehicle Sales (NPV)\", column]\n",
    "    output_df[column] /= vehicle_sales\n",
    "output_df.to_csv(\"unmanaged per vehicle results.csv\")"
   ]
  },
  {
   "cell_type": "markdown",
   "metadata": {},
   "source": [
    "#  Aggregate across all counties"
   ]
  },
  {
   "cell_type": "code",
   "execution_count": 10,
   "metadata": {
    "scrolled": true
   },
   "outputs": [],
   "source": [
    "aggregate_output_df = output_df.sum(axis = 1)\n",
    "aggregate_output_df.to_csv(\"aggregate outputs managed.csv\")"
   ]
  },
  {
   "cell_type": "markdown",
   "metadata": {},
   "source": [
    "# Copy input files from one case to another"
   ]
  },
  {
   "cell_type": "code",
   "execution_count": 15,
   "metadata": {
    "scrolled": false
   },
   "outputs": [],
   "source": [
    "import os\n",
    "import pandas as pd\n",
    "import shutil\n",
    "import glob\n",
    "\n",
    "county_list = pd.read_csv(\n",
    "    \"S:\\E3 Projects\\CEC SLAC EV\\Data processing\\Load shapes from SLAC\\SLAC Updated Load Shapes may 2020\\ev_distribution.csv\")['County'].tolist()\n",
    "\n",
    "uncontrolled_load_path = \"S:\\E3 Projects\\CEC SLAC EV\\EV CBA Tool\\MODEL\\cases\\BaseCase_{}_uncontrolled_load\\data\\Annual Values\"\n",
    "controled_load_path = \"S:\\E3 Projects\\CEC SLAC EV\\EV CBA Tool\\MODEL\\cases\\BaseCase_{}_e19controlled_load\\data\\Annual Values\"\n",
    "\n",
    "# for county in county_list:\n",
    "#     files = glob.glob(\"S:\\E3 Projects\\CEC SLAC EV\\EV CBA Tool\\MODEL\\cases\\BaseCase_{}_e19controlled_load\\data\\Annual Values\\*\".format(county))\n",
    "#     for f in files:\n",
    "#         os.remove(f)\n",
    "\n",
    "\n",
    "for county in county_list:\n",
    "    src_files = os.listdir(uncontrolled_load_path.format(county))\n",
    "    for file_name in src_files:\n",
    "        full_file_name = os.path.join(uncontrolled_load_path.format(county), file_name)\n",
    "        if os.path.isfile(full_file_name):\n",
    "            shutil.copy(full_file_name, controled_load_path.format(county))"
   ]
  },
  {
   "cell_type": "markdown",
   "metadata": {},
   "source": [
    "# Scenario Results for Selected Counties\n"
   ]
  },
  {
   "cell_type": "code",
   "execution_count": 2,
   "metadata": {},
   "outputs": [],
   "source": [
    "import os\n",
    "import pandas as pd\n",
    "\n",
    "county_list = ['San Francisco', 'Los Angeles', 'San Diego', 'Kern', 'Fresno']\n",
    "scenario_list = ['BaseCase', 'LowAdoption', 'HighAdoption', 'Work', 'WorkPublic', 'FastPublic', 'Equity']\n",
    "\n",
    "cases_path = os.getcwd()\n",
    "output_df = pd.DataFrame()\n",
    "TRC_df = pd.DataFrame()\n",
    "RIM_df = pd.DataFrame()\n",
    "PCT_df = pd.DataFrame()\n",
    "\n",
    "scenario_county_list = []\n",
    "trc_list = []\n",
    "rim_list = []\n",
    "pct_list = []\n",
    "\n",
    "for county in county_list:\n",
    "    for scenario in scenario_list:\n",
    "            uncontrolled_case = \"{}_{}_e19controlled_load\".format(scenario, county)\n",
    "            try:\n",
    "                output_path = os.path.join(cases_path, uncontrolled_case, 'results', 'npv_results.csv')\n",
    "                npv_results = pd.read_csv(output_path).set_index(\"Year\")\n",
    "                output_df[scenario + \" \" + county] = npv_results['NPV']\n",
    "\n",
    "            except:\n",
    "                pass\n",
    "            #Cost Test Components\n",
    "            avoided_gasoline = output_df.loc['Avoided vehicle gasoline', scenario + \" \" + county]\n",
    "            vOandM = output_df.loc['Vehicle O&M Savings', scenario + \" \" + county]\n",
    "            fed_tax_credit = output_df.loc['Federal EV Tax Credit', scenario + \" \" + county]\n",
    "            utility_bills = output_df.loc['Utility Bills', scenario + \" \" + county]\n",
    "            chg_infra_cost = output_df.loc['Charging infrastructure cost', scenario + \" \" + county]\n",
    "            res_chg_infra_cost = output_df.loc['Charging infrastructure cost (res)', scenario + \" \" + county]\n",
    "            energy_supply = output_df.loc['Total Energy Supply Cost', scenario + \" \" + county] + output_df.loc['Transmission and Distribution Cost', scenario + \" \" + county]\n",
    "            \n",
    "            scenario_county_list.append('{} {}'.format(scenario, county))\n",
    "            trc_list.append(avoided_gasoline + vOandM + fed_tax_credit - energy_supply - chg_infra_cost)\n",
    "            rim_list.append(utility_bills - energy_supply)\n",
    "            pct_list.append(avoided_gasoline + vOandM + fed_tax_credit - utility_bills - res_chg_infra_cost)\n",
    "\n",
    "            \n",
    "TRC_df['county_list'] = scenario_county_list\n",
    "TRC_df['test'] = trc_list\n",
    "\n",
    "RIM_df['county_list'] = scenario_county_list\n",
    "RIM_df['test'] = rim_list\n",
    "\n",
    "PCT_df['county_list'] = scenario_county_list\n",
    "PCT_df['test'] = pct_list\n",
    "\n",
    "TRC_df.to_csv(\"scenario based managed TRC results.csv\")\n",
    "RIM_df.to_csv(\"scenario based managed RIM results.csv\")\n",
    "PCT_df.to_csv(\"scenario based managed PCT results.csv\")"
   ]
  },
  {
   "cell_type": "code",
   "execution_count": 47,
   "metadata": {},
   "outputs": [
    {
     "ename": "NameError",
     "evalue": "name 'output_list' is not defined",
     "output_type": "error",
     "traceback": [
      "\u001b[1;31m---------------------------------------------------------------------------\u001b[0m",
      "\u001b[1;31mNameError\u001b[0m                                 Traceback (most recent call last)",
      "\u001b[1;32m<ipython-input-47-ce44122f3a74>\u001b[0m in \u001b[0;36m<module>\u001b[1;34m\u001b[0m\n\u001b[1;32m----> 1\u001b[1;33m \u001b[0moutput_list\u001b[0m\u001b[1;33m\u001b[0m\u001b[1;33m\u001b[0m\u001b[0m\n\u001b[0m",
      "\u001b[1;31mNameError\u001b[0m: name 'output_list' is not defined"
     ]
    }
   ],
   "source": []
  },
  {
   "cell_type": "code",
   "execution_count": 34,
   "metadata": {},
   "outputs": [
    {
     "ename": "NameError",
     "evalue": "name 'test' is not defined",
     "output_type": "error",
     "traceback": [
      "\u001b[1;31m---------------------------------------------------------------------------\u001b[0m",
      "\u001b[1;31mNameError\u001b[0m                                 Traceback (most recent call last)",
      "\u001b[1;32m<ipython-input-34-4e1243bd22c6>\u001b[0m in \u001b[0;36m<module>\u001b[1;34m\u001b[0m\n\u001b[1;32m----> 1\u001b[1;33m \u001b[0mtest\u001b[0m\u001b[1;33m\u001b[0m\u001b[1;33m\u001b[0m\u001b[0m\n\u001b[0m",
      "\u001b[1;31mNameError\u001b[0m: name 'test' is not defined"
     ]
    }
   ],
   "source": [
    "test"
   ]
  },
  {
   "cell_type": "code",
   "execution_count": null,
   "metadata": {},
   "outputs": [],
   "source": []
  }
 ],
 "metadata": {
  "kernelspec": {
   "display_name": "Python 3",
   "language": "python",
   "name": "python3"
  },
  "language_info": {
   "codemirror_mode": {
    "name": "ipython",
    "version": 3
   },
   "file_extension": ".py",
   "mimetype": "text/x-python",
   "name": "python",
   "nbconvert_exporter": "python",
   "pygments_lexer": "ipython3",
   "version": "3.8.3"
  }
 },
 "nbformat": 4,
 "nbformat_minor": 2
}
